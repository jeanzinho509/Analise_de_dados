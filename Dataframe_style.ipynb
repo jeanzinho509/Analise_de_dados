{
  "nbformat": 4,
  "nbformat_minor": 0,
  "metadata": {
    "colab": {
      "provenance": [],
      "authorship_tag": "ABX9TyMCh9gFVS1veWdumcW+p2T7",
      "include_colab_link": true
    },
    "kernelspec": {
      "name": "python3",
      "display_name": "Python 3"
    },
    "language_info": {
      "name": "python"
    }
  },
  "cells": [
    {
      "cell_type": "markdown",
      "metadata": {
        "id": "view-in-github",
        "colab_type": "text"
      },
      "source": [
        "<a href=\"https://colab.research.google.com/github/jeanzinho509/Analise_de_dados/blob/main/Dataframe_style.ipynb\" target=\"_parent\"><img src=\"https://colab.research.google.com/assets/colab-badge.svg\" alt=\"Open In Colab\"/></a>"
      ]
    },
    {
      "cell_type": "code",
      "source": [
        "import pandas as pd\n",
        "\n",
        "combustiveis_df = pd.read_excel(\"ca202102.xlsx\")"
      ],
      "metadata": {
        "id": "MYqXWB1IA0vj"
      },
      "execution_count": null,
      "outputs": []
    },
    {
      "cell_type": "code",
      "source": [
        "import pandas as pd\n",
        "import numpy as np\n",
        "import matplotlib.pyplot as plt\n",
        "\n",
        "df = pd.DataFrame([[38.0, 2.0, 18.0, 22.0, 21, np.nan],[19, 439, 6, 452, 226, 232]],\n",
        "                  index=pd.Index( ['Tumour (Positive)', 'Non-Tumour (Negative)'], name='Actual Label:'),\n",
        "                  columns=pd.MultiIndex.from_product([['Decision Tree', 'Regression', 'Random'], ['Tumour', 'Non-Tumour']], names=['Model:', 'Predicted:']))\n",
        "df.style"
      ],
      "metadata": {
        "colab": {
          "base_uri": "https://localhost:8080/",
          "height": 175
        },
        "id": "kt9e8EWnwxl5",
        "outputId": "d935ede2-7eb8-469b-a1f8-e559d9149763"
      },
      "execution_count": 1,
      "outputs": [
        {
          "output_type": "execute_result",
          "data": {
            "text/plain": [
              "<pandas.io.formats.style.Styler at 0x7f7e1cf32520>"
            ],
            "text/html": [
              "<style type=\"text/css\">\n",
              "</style>\n",
              "<table id=\"T_0a357_\" class=\"dataframe\">\n",
              "  <thead>\n",
              "    <tr>\n",
              "      <th class=\"index_name level0\" >Model:</th>\n",
              "      <th class=\"col_heading level0 col0\" colspan=\"2\">Decision Tree</th>\n",
              "      <th class=\"col_heading level0 col2\" colspan=\"2\">Regression</th>\n",
              "      <th class=\"col_heading level0 col4\" colspan=\"2\">Random</th>\n",
              "    </tr>\n",
              "    <tr>\n",
              "      <th class=\"index_name level1\" >Predicted:</th>\n",
              "      <th class=\"col_heading level1 col0\" >Tumour</th>\n",
              "      <th class=\"col_heading level1 col1\" >Non-Tumour</th>\n",
              "      <th class=\"col_heading level1 col2\" >Tumour</th>\n",
              "      <th class=\"col_heading level1 col3\" >Non-Tumour</th>\n",
              "      <th class=\"col_heading level1 col4\" >Tumour</th>\n",
              "      <th class=\"col_heading level1 col5\" >Non-Tumour</th>\n",
              "    </tr>\n",
              "    <tr>\n",
              "      <th class=\"index_name level0\" >Actual Label:</th>\n",
              "      <th class=\"blank col0\" >&nbsp;</th>\n",
              "      <th class=\"blank col1\" >&nbsp;</th>\n",
              "      <th class=\"blank col2\" >&nbsp;</th>\n",
              "      <th class=\"blank col3\" >&nbsp;</th>\n",
              "      <th class=\"blank col4\" >&nbsp;</th>\n",
              "      <th class=\"blank col5\" >&nbsp;</th>\n",
              "    </tr>\n",
              "  </thead>\n",
              "  <tbody>\n",
              "    <tr>\n",
              "      <th id=\"T_0a357_level0_row0\" class=\"row_heading level0 row0\" >Tumour (Positive)</th>\n",
              "      <td id=\"T_0a357_row0_col0\" class=\"data row0 col0\" >38.000000</td>\n",
              "      <td id=\"T_0a357_row0_col1\" class=\"data row0 col1\" >2.000000</td>\n",
              "      <td id=\"T_0a357_row0_col2\" class=\"data row0 col2\" >18.000000</td>\n",
              "      <td id=\"T_0a357_row0_col3\" class=\"data row0 col3\" >22.000000</td>\n",
              "      <td id=\"T_0a357_row0_col4\" class=\"data row0 col4\" >21</td>\n",
              "      <td id=\"T_0a357_row0_col5\" class=\"data row0 col5\" >nan</td>\n",
              "    </tr>\n",
              "    <tr>\n",
              "      <th id=\"T_0a357_level0_row1\" class=\"row_heading level0 row1\" >Non-Tumour (Negative)</th>\n",
              "      <td id=\"T_0a357_row1_col0\" class=\"data row1 col0\" >19.000000</td>\n",
              "      <td id=\"T_0a357_row1_col1\" class=\"data row1 col1\" >439.000000</td>\n",
              "      <td id=\"T_0a357_row1_col2\" class=\"data row1 col2\" >6.000000</td>\n",
              "      <td id=\"T_0a357_row1_col3\" class=\"data row1 col3\" >452.000000</td>\n",
              "      <td id=\"T_0a357_row1_col4\" class=\"data row1 col4\" >226</td>\n",
              "      <td id=\"T_0a357_row1_col5\" class=\"data row1 col5\" >232.000000</td>\n",
              "    </tr>\n",
              "  </tbody>\n",
              "</table>\n"
            ]
          },
          "metadata": {},
          "execution_count": 1
        }
      ]
    }
  ]
}